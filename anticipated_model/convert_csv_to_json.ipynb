{
 "cells": [
  {
   "cell_type": "markdown",
   "id": "9b5dbe48",
   "metadata": {},
   "source": [
    "# Convert annotations_train.csv to annotations_train.json"
   ]
  },
  {
   "cell_type": "code",
   "execution_count": 1,
   "id": "03d7f884",
   "metadata": {},
   "outputs": [
    {
     "name": "stdout",
     "output_type": "stream",
     "text": [
      "[{'image_id': 'Afghan/1.jpg', 'caption': 'a dog looking to the right.'}, {'image_id': 'Afghan/1.jpg', 'caption': 'a Afghan dog looking to the right.'}]\n"
     ]
    }
   ],
   "source": [
    "import pandas as pd\n",
    "import numpy as np\n",
    "import json\n",
    "csv_path = '../All_Data/annotations_train.csv'\n",
    "replace_dict = {'Cockapoo':'parrot', 'Dalmation':'dalmatian', 'Bluetick':'bluebonnet', 'Perenees':'pere', 'Groenendael':'goren', 'Shih-Tzu':'shih', 'Shar_Pei':'shar', 'Komondor':'komon'}\n",
    "annotations = pd.read_csv(csv_path)\n",
    "annotations = np.array(annotations)\n",
    "annotations_json_list = []\n",
    "for line in annotations:\n",
    "    line[2] = line[2][:-2]+'.'\n",
    "    sting_list = line[2].split()\n",
    "    combined_string = ''\n",
    "    for i, word in enumerate (sting_list):\n",
    "        if word in replace_dict.keys():\n",
    "            sting_list[i] = replace_dict[word]\n",
    "        if i != 0:\n",
    "            combined_string += ' '\n",
    "        combined_string += sting_list[i]\n",
    "    line[2] = combined_string\n",
    "    \n",
    "    annotations_json_list.append({'image_id':line[1], 'caption':line[2]})\n",
    "annotations_json = {'annotations':annotations_json_list}\n",
    "\n",
    "def read_json(file_name):\n",
    "    with open(file_name) as handle:\n",
    "        out = json.load(handle)\n",
    "    return out\n",
    "\n",
    "with open('../All_Data/annotations_train.json', 'w') as fout:\n",
    "    json.dump(annotations_json, fout)\n",
    "    \n",
    "out = read_json('../All_Data/annotations_train.json')\n",
    "print(out['annotations'][:2])"
   ]
  },
  {
   "cell_type": "markdown",
   "id": "e0030f4f",
   "metadata": {},
   "source": [
    "# Convert annotations_valid.csv to annotations_valid.json"
   ]
  },
  {
   "cell_type": "code",
   "execution_count": 2,
   "id": "bcd9683d",
   "metadata": {
    "scrolled": false
   },
   "outputs": [
    {
     "name": "stdout",
     "output_type": "stream",
     "text": [
      "[{'image_id': 'African Wild Dog/1.jpg', 'caption': 'a standing dog.'}, {'image_id': 'African Wild Dog/1.jpg', 'caption': 'a standing African Wild dog.'}]\n"
     ]
    }
   ],
   "source": [
    "import pandas as pd\n",
    "import numpy as np\n",
    "import json\n",
    "csv_path = '../All_Data/annotations_valid.csv'\n",
    "replace_dict = {'Cockapoo':'parrot', 'Dalmation':'dalmatian', 'Bluetick':'bluebonnet', 'Perenees':'pere', 'Groenendael':'goren', 'Shih-Tzu':'shih', 'Shar_Pei':'shar', 'Komondor':'komon'}\n",
    "annotations = pd.read_csv(csv_path)\n",
    "annotations = np.array(annotations)\n",
    "annotations_json_list = []\n",
    "for line in annotations:\n",
    "    line[2] = line[2][:-2]+'.'\n",
    "    sting_list = line[2].split()\n",
    "    combined_string = ''\n",
    "    for i, word in enumerate (sting_list):\n",
    "        if word in replace_dict.keys():\n",
    "            sting_list[i] = replace_dict[word]\n",
    "        if i != 0:\n",
    "            combined_string += ' '\n",
    "        combined_string += sting_list[i]\n",
    "    line[2] = combined_string\n",
    "    \n",
    "    annotations_json_list.append({'image_id':line[1], 'caption':line[2]})\n",
    "annotations_json = {'annotations':annotations_json_list}\n",
    "\n",
    "def read_json(file_name):\n",
    "    with open(file_name) as handle:\n",
    "        out = json.load(handle)\n",
    "    return out\n",
    "\n",
    "with open('../All_Data/annotations_valid.json', 'w') as fout:\n",
    "    json.dump(annotations_json, fout)\n",
    "    \n",
    "out = read_json('../All_Data/annotations_valid.json')\n",
    "print(out['annotations'][:2])"
   ]
  },
  {
   "cell_type": "code",
   "execution_count": null,
   "id": "b79ba4f5",
   "metadata": {},
   "outputs": [],
   "source": []
  }
 ],
 "metadata": {
  "kernelspec": {
   "display_name": "Python 3 (ipykernel)",
   "language": "python",
   "name": "python3"
  },
  "language_info": {
   "codemirror_mode": {
    "name": "ipython",
    "version": 3
   },
   "file_extension": ".py",
   "mimetype": "text/x-python",
   "name": "python",
   "nbconvert_exporter": "python",
   "pygments_lexer": "ipython3",
   "version": "3.10.4"
  }
 },
 "nbformat": 4,
 "nbformat_minor": 5
}
