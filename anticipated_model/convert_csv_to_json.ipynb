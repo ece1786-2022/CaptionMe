{
 "cells": [
  {
   "cell_type": "code",
   "execution_count": 1,
   "id": "03d7f884",
   "metadata": {},
   "outputs": [],
   "source": [
    "import pandas as pd\n",
    "import numpy as np\n",
    "csv_path = '../All_Data/annotations_train.csv'\n",
    "annotations = pd.read_csv(csv_path)\n",
    "annotations = np.array(annotations)\n",
    "annotations_json_list = []\n",
    "for line in annotations:\n",
    "    line[2] = line[2][:-2]+'.'\n",
    "    annotations_json_list.append({'image_id':line[1], 'caption':line[2]})\n",
    "annotations_json = {'annotations':annotations_json_list}"
   ]
  },
  {
   "cell_type": "code",
   "execution_count": 2,
   "id": "8209f871",
   "metadata": {},
   "outputs": [],
   "source": [
    "import json\n",
    "with open('../All_Data/annotations_train.json', 'w') as fout:\n",
    "    json.dump(annotations_json, fout)"
   ]
  },
  {
   "cell_type": "code",
   "execution_count": 3,
   "id": "bcd9683d",
   "metadata": {},
   "outputs": [
    {
     "name": "stdout",
     "output_type": "stream",
     "text": [
      "[{'image_id': 'Afghan/1.jpg', 'caption': 'This is a dog looking to the right.'}, {'image_id': 'Afghan/1.jpg', 'caption': 'This is a Afghan dog looking to the right.'}]\n"
     ]
    }
   ],
   "source": [
    "import json\n",
    "def read_json(file_name):\n",
    "    with open(file_name) as handle:\n",
    "        out = json.load(handle)\n",
    "    return out\n",
    "\n",
    "out = read_json('../All_Data/annotations_train.json')\n",
    "print(out['annotations'][:2])"
   ]
  },
  {
   "cell_type": "code",
   "execution_count": null,
   "id": "b79ba4f5",
   "metadata": {},
   "outputs": [],
   "source": []
  }
 ],
 "metadata": {
  "kernelspec": {
   "display_name": "Python 3 (ipykernel)",
   "language": "python",
   "name": "python3"
  },
  "language_info": {
   "codemirror_mode": {
    "name": "ipython",
    "version": 3
   },
   "file_extension": ".py",
   "mimetype": "text/x-python",
   "name": "python",
   "nbconvert_exporter": "python",
   "pygments_lexer": "ipython3",
   "version": "3.10.4"
  }
 },
 "nbformat": 4,
 "nbformat_minor": 5
}
