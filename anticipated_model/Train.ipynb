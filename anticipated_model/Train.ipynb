{
 "cells": [
  {
   "cell_type": "code",
   "execution_count": 2,
   "id": "d9827bae",
   "metadata": {},
   "outputs": [
    {
     "name": "stderr",
     "output_type": "stream",
     "text": [
      "C:\\Users\\zixua\\anaconda3\\envs\\test1\\lib\\site-packages\\scipy\\__init__.py:146: UserWarning: A NumPy version >=1.16.5 and <1.23.0 is required for this version of SciPy (detected version 1.23.4\n",
      "  warnings.warn(f\"A NumPy version >={np_minversion} and <{np_maxversion}\"\n"
     ]
    },
    {
     "name": "stdout",
     "output_type": "stream",
     "text": [
      "cuda\n"
     ]
    }
   ],
   "source": [
    "import torch\n",
    "from torch.utils.data import DataLoader\n",
    "import tqdm\n",
    "import numpy as np\n",
    "import time\n",
    "import matplotlib.pyplot as plt\n",
    "import sys\n",
    "import os\n",
    "import math\n",
    "from models import utils\n",
    "# from datasets import coco\n",
    "from configuration import Config\n",
    "from torch.utils.data import Dataset\n",
    "import torchvision.transforms.functional as TF\n",
    "import torchvision as tv\n",
    "from PIL import Image\n",
    "import random\n",
    "from transformers import BertTokenizer\n",
    "from datasets.utils import *\n",
    "device = 'cuda' if torch.cuda.is_available() else 'cpu'\n",
    "import warnings\n",
    "warnings.filterwarnings(\"ignore\") \n",
    "torch.cuda.empty_cache()\n",
    "print(device)\n",
    "# from engine import train_one_epoch, evaluate"
   ]
  },
  {
   "cell_type": "markdown",
   "id": "cdafc7df",
   "metadata": {},
   "source": [
    "# Dataset"
   ]
  },
  {
   "cell_type": "code",
   "execution_count": 3,
   "id": "8831a6e8",
   "metadata": {},
   "outputs": [],
   "source": [
    "MAX_DIM = 299\n",
    "\n",
    "def under_max(image):\n",
    "    if image.mode != 'RGB':\n",
    "        image = image.convert(\"RGB\")\n",
    "\n",
    "    shape = np.array(image.size, dtype=np.float)\n",
    "    long_dim = max(shape)\n",
    "    scale = MAX_DIM / long_dim\n",
    "\n",
    "    new_shape = (shape * scale).astype(int)\n",
    "    image = image.resize(new_shape)\n",
    "\n",
    "    return image\n",
    "\n",
    "\n",
    "class RandomRotation:\n",
    "    def __init__(self, angles=[0, 90, 180, 270]):\n",
    "        self.angles = angles\n",
    "\n",
    "    def __call__(self, x):\n",
    "        angle = random.choice(self.angles)\n",
    "        return TF.rotate(x, angle, expand=True)\n",
    "\n",
    "\n",
    "train_transform = tv.transforms.Compose([\n",
    "    RandomRotation(),\n",
    "    tv.transforms.Lambda(under_max),\n",
    "    tv.transforms.ColorJitter(brightness=[0.5, 1.3], contrast=[\n",
    "                              0.8, 1.5], saturation=[0.2, 1.5]),\n",
    "    tv.transforms.RandomHorizontalFlip(),\n",
    "    tv.transforms.ToTensor(),\n",
    "    tv.transforms.Normalize((0.5, 0.5, 0.5), (0.5, 0.5, 0.5)),\n",
    "])\n",
    "\n",
    "val_transform = tv.transforms.Compose([\n",
    "    tv.transforms.Lambda(under_max),\n",
    "    tv.transforms.ToTensor(),\n",
    "    tv.transforms.Normalize((0.5, 0.5, 0.5), (0.5, 0.5, 0.5))\n",
    "])\n",
    "\n",
    "\n",
    "class CocoCaption(Dataset):\n",
    "    def __init__(self, root, ann, max_length, limit, transform=train_transform, mode='training'):\n",
    "        super().__init__()\n",
    "\n",
    "        self.root = root\n",
    "        self.transform = transform\n",
    "        self.annot = [(val['image_id'], val['caption'])\n",
    "                      for val in ann['annotations']]\n",
    "        if mode == 'validation':\n",
    "            self.annot = self.annot\n",
    "        if mode == 'training':\n",
    "            self.annot = self.annot[: limit]\n",
    "\n",
    "        self.tokenizer = BertTokenizer.from_pretrained(\n",
    "            'bert-base-uncased', do_lower=True)\n",
    "        self.max_length = max_length + 1\n",
    "\n",
    "    def _process(self, image_id):\n",
    "        val = str(image_id).zfill(12)\n",
    "        return val + '.jpg'\n",
    "\n",
    "    def __len__(self):\n",
    "        return len(self.annot)\n",
    "\n",
    "    def __getitem__(self, idx):\n",
    "        image_id, caption = self.annot[idx]\n",
    "        image = Image.open(self.root + '/' +image_id)\n",
    "        if self.transform:\n",
    "            image = self.transform(image)\n",
    "        image = nested_tensor_from_tensor_list_data(image.unsqueeze(0))\n",
    "\n",
    "        caption_encoded = self.tokenizer.encode_plus(\n",
    "            caption, max_length=self.max_length, pad_to_max_length=True, return_attention_mask=True, return_token_type_ids=False, truncation=True)\n",
    "\n",
    "        caption = np.array(caption_encoded['input_ids'])\n",
    "        cap_mask = (\n",
    "            1 - np.array(caption_encoded['attention_mask'])).astype(bool)\n",
    "\n",
    "        return image.tensors.squeeze(0), image.mask.squeeze(0), caption, cap_mask\n",
    "\n",
    "\n",
    "def build_dataset(config, mode='training'):\n",
    "    if mode == 'training':\n",
    "        train_dir = config.dir+'/train'\n",
    "        train_file = config.dir+'/annotations_train.json'\n",
    "        data = CocoCaption(train_dir, read_json(\n",
    "            train_file), max_length=config.max_position_embeddings, limit=config.limit, transform=train_transform, mode='training')\n",
    "        return data\n",
    "\n",
    "    elif mode == 'validation':\n",
    "        val_dir = config.dir+'/valid'\n",
    "        val_file = config.dir+'/annotations_valid.json'\n",
    "        data = CocoCaption(val_dir, read_json(\n",
    "            val_file), max_length=config.max_position_embeddings, limit=config.limit, transform=val_transform, mode='validation')\n",
    "        return data\n",
    "\n",
    "    else:\n",
    "        raise NotImplementedError(f\"{mode} not supported\")"
   ]
  },
  {
   "cell_type": "markdown",
   "id": "9023ebfd",
   "metadata": {},
   "source": [
    "# Engine"
   ]
  },
  {
   "cell_type": "code",
   "execution_count": 4,
   "id": "1b6a2c4b",
   "metadata": {},
   "outputs": [],
   "source": [
    "from models import utils\n",
    "# Copyright (c) Facebook, Inc. and its affiliates. All Rights Reserved\n",
    "def train_one_epoch(model, criterion, data_loader,\n",
    "                    optimizer, device, epoch, max_norm):\n",
    "    model.train()\n",
    "    criterion.train()\n",
    "\n",
    "    epoch_loss = 0.0\n",
    "    total = len(data_loader)\n",
    "\n",
    "    with tqdm.tqdm(total=total) as pbar:\n",
    "        for images, masks, caps, cap_masks in data_loader:\n",
    "            samples = utils.NestedTensor(images, masks).to(device)\n",
    "            caps = caps.to(device)\n",
    "            cap_masks = cap_masks.to(device)\n",
    "            outputs = model(samples, caps[:, :-1], cap_masks[:, :-1])\n",
    "            loss = criterion(outputs.permute(0, 2, 1), caps[:, 1:].type(torch.LongTensor).to(device))\n",
    "            loss_value = loss.item()\n",
    "            epoch_loss += loss_value\n",
    "\n",
    "            if not math.isfinite(loss_value):\n",
    "                print(f'Loss is {loss_value}, stopping training')\n",
    "                sys.exit(1)\n",
    "\n",
    "            optimizer.zero_grad()\n",
    "            loss.backward()\n",
    "            if max_norm > 0:\n",
    "                torch.nn.utils.clip_grad_norm_(model.parameters(), max_norm)\n",
    "            optimizer.step()\n",
    "            pbar.update(1)\n",
    "\n",
    "    return epoch_loss / total\n",
    "\n",
    "@torch.no_grad()\n",
    "def evaluate(model, criterion, data_loader, device):\n",
    "    model.eval()\n",
    "    criterion.eval()\n",
    "\n",
    "    validation_loss = 0.0\n",
    "    total = len(data_loader)\n",
    "\n",
    "    with tqdm.tqdm(total=total) as pbar:\n",
    "        for images, masks, caps, cap_masks in data_loader:\n",
    "            samples = utils.NestedTensor(images, masks).to(device)\n",
    "            caps = caps.to(device)\n",
    "            cap_masks = cap_masks.to(device)\n",
    "\n",
    "            outputs = model(samples, caps[:, :-1], cap_masks[:, :-1])\n",
    "            loss = criterion(outputs.permute(0, 2, 1), caps[:, 1:].type(torch.LongTensor).to(device))\n",
    "\n",
    "            validation_loss += loss.item()\n",
    "\n",
    "            pbar.update(1)\n",
    "        \n",
    "    return validation_loss / total"
   ]
  },
  {
   "cell_type": "markdown",
   "id": "73791e46",
   "metadata": {},
   "source": [
    "# Backbone Model"
   ]
  },
  {
   "cell_type": "code",
   "execution_count": 5,
   "id": "4506fbcd",
   "metadata": {},
   "outputs": [],
   "source": [
    "# Copyright (c) Facebook, Inc. and its affiliates. All Rights Reserved\n",
    "from collections import OrderedDict\n",
    "\n",
    "import torch\n",
    "import torch.nn.functional as F\n",
    "import torchvision\n",
    "from torch import nn\n",
    "from torchvision.models._utils import IntermediateLayerGetter\n",
    "#https://blog.csdn.net/qq_35037684/article/details/118975018\n",
    "from typing import Dict, List\n",
    "\n",
    "from models.utils import NestedTensor, is_main_process\n",
    "\n",
    "from models.position_encoding import build_position_encoding\n",
    "\n",
    "\n",
    "class FrozenBatchNorm2d(torch.nn.Module):\n",
    "    \"\"\"\n",
    "    BatchNorm2d where the batch statistics and the affine parameters are fixed.\n",
    "    Copy-paste from torchvision.misc.ops with added eps before rqsrt,\n",
    "    without which any other models than torchvision.models.resnet[18,34,50,101]\n",
    "    produce nans.\n",
    "    \"\"\"\n",
    "\n",
    "    def __init__(self, n):\n",
    "        super(FrozenBatchNorm2d, self).__init__()\n",
    "        self.register_buffer(\"weight\", torch.ones(n))\n",
    "        self.register_buffer(\"bias\", torch.zeros(n))\n",
    "        self.register_buffer(\"running_mean\", torch.zeros(n))\n",
    "        self.register_buffer(\"running_var\", torch.ones(n))\n",
    "\n",
    "    def _load_from_state_dict(self, state_dict, prefix, local_metadata, strict,\n",
    "                              missing_keys, unexpected_keys, error_msgs):\n",
    "        num_batches_tracked_key = prefix + 'num_batches_tracked'\n",
    "        if num_batches_tracked_key in state_dict:\n",
    "            del state_dict[num_batches_tracked_key]\n",
    "\n",
    "        super(FrozenBatchNorm2d, self)._load_from_state_dict(\n",
    "            state_dict, prefix, local_metadata, strict,\n",
    "            missing_keys, unexpected_keys, error_msgs)\n",
    "\n",
    "    def forward(self, x):\n",
    "        # move reshapes to the beginning\n",
    "        # to make it fuser-friendly\n",
    "        w = self.weight.reshape(1, -1, 1, 1)\n",
    "        b = self.bias.reshape(1, -1, 1, 1)\n",
    "        rv = self.running_var.reshape(1, -1, 1, 1)\n",
    "        rm = self.running_mean.reshape(1, -1, 1, 1)\n",
    "        eps = 1e-5\n",
    "        scale = w * (rv + eps).rsqrt()\n",
    "        bias = b - rm * scale\n",
    "        return x * scale + bias\n",
    "\n",
    "\n",
    "class BackboneBase(nn.Module):\n",
    "    def __init__(self, backbone: nn.Module, train_backbone: bool, num_channels: int, return_interm_layers: bool):\n",
    "        super().__init__()\n",
    "        for name, parameter in backbone.named_parameters():\n",
    "            if not train_backbone or 'layer2' not in name and 'layer3' not in name and 'layer4' not in name:\n",
    "                parameter.requires_grad_(False)\n",
    "        if return_interm_layers:\n",
    "            return_layers = {\"layer1\": \"0\", \"layer2\": \"1\", \"layer3\": \"2\", \"layer4\": \"3\"}\n",
    "        else:\n",
    "            return_layers = {'layer4': \"0\"}\n",
    "        self.body = IntermediateLayerGetter(backbone, return_layers=return_layers)\n",
    "        self.num_channels = num_channels\n",
    "\n",
    "    def forward(self, tensor_list: NestedTensor):\n",
    "        xs = self.body(tensor_list.tensors)\n",
    "        out: Dict[str, NestedTensor] = {}\n",
    "        for name, x in xs.items():\n",
    "            #x.shape = (B, 2048, 19, 19)\n",
    "            m = tensor_list.mask\n",
    "            assert m is not None\n",
    "            mask = F.interpolate(m[None].float(), size=x.shape[-2:]).to(torch.bool)[0]\n",
    "            #mask.shape = 19, 19\n",
    "            out[name] = NestedTensor(x, mask)\n",
    "        return out\n",
    "\n",
    "\n",
    "class Backbone(BackboneBase):\n",
    "    \"\"\"ResNet backbone with frozen BatchNorm.\"\"\"\n",
    "    def __init__(self, name: str,\n",
    "                 train_backbone: bool,\n",
    "                 return_interm_layers: bool,\n",
    "                 dilation: bool):\n",
    "        backbone = getattr(torchvision.models, name)(\n",
    "            replace_stride_with_dilation=[False, False, dilation],\n",
    "            pretrained=is_main_process(), norm_layer=FrozenBatchNorm2d)\n",
    "        num_channels = 512 if name in ('resnet18', 'resnet34') else 2048\n",
    "        super().__init__(backbone, train_backbone, num_channels, return_interm_layers)\n",
    "\n",
    "\n",
    "class Joiner(nn.Sequential):\n",
    "    def __init__(self, backbone, position_embedding):\n",
    "        super().__init__(backbone, position_embedding)\n",
    "\n",
    "    def forward(self, tensor_list: NestedTensor):\n",
    "        xs = self[0](tensor_list)\n",
    "        out: List[NestedTensor] = []\n",
    "        pos = []\n",
    "        for name, x in xs.items():\n",
    "            out.append(x)\n",
    "            # position encoding\n",
    "            pos.append(self[1](x).to(x.tensors.dtype))\n",
    "        #pos.shape = list with one element of (B, 256, 19, 19)\n",
    "        return out, pos\n",
    "\n",
    "\n",
    "def build_backbone(config):\n",
    "    position_embedding = build_position_encoding(config)\n",
    "    train_backbone = config.lr_backbone > 0\n",
    "    return_interm_layers = False\n",
    "    backbone = Backbone(config.backbone, train_backbone, return_interm_layers, config.dilation)\n",
    "    model = Joiner(backbone, position_embedding)\n",
    "    model.num_channels = backbone.num_channels\n",
    "    return model"
   ]
  },
  {
   "cell_type": "markdown",
   "id": "fb72826d",
   "metadata": {},
   "source": [
    "# Build Model"
   ]
  },
  {
   "cell_type": "code",
   "execution_count": 6,
   "id": "47c49269",
   "metadata": {},
   "outputs": [],
   "source": [
    "import torch\n",
    "from torch import nn\n",
    "import torch.nn.functional as F\n",
    "\n",
    "from models.utils import NestedTensor, nested_tensor_from_tensor_list\n",
    "from models.transformer import build_transformer\n",
    "\n",
    "\n",
    "class Caption(nn.Module):\n",
    "    def __init__(self, backbone, transformer, hidden_dim, vocab_size):\n",
    "        super().__init__()\n",
    "        self.backbone = backbone\n",
    "        self.input_proj = nn.Conv2d(\n",
    "            backbone.num_channels, hidden_dim, kernel_size=1)\n",
    "        self.transformer = transformer\n",
    "        self.mlp = MLP(hidden_dim, 512, vocab_size, 3)\n",
    "\n",
    "    def forward(self, samples, target, target_mask):\n",
    "        if not isinstance(samples, NestedTensor):\n",
    "            samples = nested_tensor_from_tensor_list(samples)\n",
    "\n",
    "        features, pos = self.backbone(samples)\n",
    "        src, mask = features[-1].decompose()\n",
    "        #src.shape=[16, 2048, 19, 19]\n",
    "        assert mask is not None\n",
    "        #self.input_proj(src).shape = torch.Size([16, 256, 19, 19])\n",
    "        hs = self.transformer(self.input_proj(src), mask,\n",
    "                              pos[-1], target, target_mask)\n",
    "        out = self.mlp(hs.permute(1, 0, 2))\n",
    "        return out\n",
    "\n",
    "\n",
    "class MLP(nn.Module):\n",
    "    \"\"\" Very simple multi-layer perceptron (also called FFN)\"\"\"\n",
    "\n",
    "    def __init__(self, input_dim, hidden_dim, output_dim, num_layers):\n",
    "        super().__init__()\n",
    "        self.num_layers = num_layers\n",
    "        h = [hidden_dim] * (num_layers - 1)\n",
    "        self.layers = nn.ModuleList(nn.Linear(n, k)\n",
    "                                    for n, k in zip([input_dim] + h, h + [output_dim]))\n",
    "\n",
    "    def forward(self, x):\n",
    "        for i, layer in enumerate(self.layers):\n",
    "            x = F.relu(layer(x)) if i < self.num_layers - 1 else layer(x)\n",
    "        return x\n",
    "\n",
    "\n",
    "def build_model(config):\n",
    "    backbone = build_backbone(config)\n",
    "    transformer = build_transformer(config)\n",
    "\n",
    "    model = Caption(backbone, transformer, config.hidden_dim, config.vocab_size)\n",
    "    criterion = torch.nn.CrossEntropyLoss()\n",
    "\n",
    "    return model, criterion"
   ]
  },
  {
   "cell_type": "code",
   "execution_count": 7,
   "id": "952132b7",
   "metadata": {
    "scrolled": false
   },
   "outputs": [
    {
     "name": "stdout",
     "output_type": "stream",
     "text": [
      "Initializing Device: cuda\n",
      "Number of trainable params: 83959866\n",
      "Train: 3919\n",
      "Valid: 560\n",
      "Start Training 30 epochs\n",
      "Epoch: 0\n"
     ]
    },
    {
     "name": "stderr",
     "output_type": "stream",
     "text": [
      "100%|████████████████████████████████████████████████████████████████████████████████| 244/244 [02:44<00:00,  1.48it/s]\n"
     ]
    },
    {
     "name": "stdout",
     "output_type": "stream",
     "text": [
      "Training Loss: 0.13934176622844133\n",
      "Start doing validation\n"
     ]
    },
    {
     "name": "stderr",
     "output_type": "stream",
     "text": [
      "100%|██████████████████████████████████████████████████████████████████████████████████| 35/35 [00:09<00:00,  3.61it/s]\n"
     ]
    },
    {
     "name": "stdout",
     "output_type": "stream",
     "text": [
      "Validation Loss: 0.07973213983433587\n",
      "Epoch: 1\n"
     ]
    },
    {
     "name": "stderr",
     "output_type": "stream",
     "text": [
      "100%|████████████████████████████████████████████████████████████████████████████████| 244/244 [02:57<00:00,  1.38it/s]\n"
     ]
    },
    {
     "name": "stdout",
     "output_type": "stream",
     "text": [
      "Training Loss: 0.06945555359430489\n",
      "Start doing validation\n"
     ]
    },
    {
     "name": "stderr",
     "output_type": "stream",
     "text": [
      "100%|██████████████████████████████████████████████████████████████████████████████████| 35/35 [00:09<00:00,  3.58it/s]\n"
     ]
    },
    {
     "name": "stdout",
     "output_type": "stream",
     "text": [
      "Validation Loss: 0.05774927346834115\n",
      "saving checkpoints\n",
      "Epoch: 2\n"
     ]
    },
    {
     "name": "stderr",
     "output_type": "stream",
     "text": [
      "100%|████████████████████████████████████████████████████████████████████████████████| 244/244 [02:37<00:00,  1.54it/s]\n"
     ]
    },
    {
     "name": "stdout",
     "output_type": "stream",
     "text": [
      "Training Loss: 0.05013800720821639\n",
      "Start doing validation\n"
     ]
    },
    {
     "name": "stderr",
     "output_type": "stream",
     "text": [
      "100%|██████████████████████████████████████████████████████████████████████████████████| 35/35 [00:09<00:00,  3.61it/s]\n"
     ]
    },
    {
     "name": "stdout",
     "output_type": "stream",
     "text": [
      "Validation Loss: 0.048604869948966165\n",
      "saving checkpoints\n",
      "Epoch: 3\n"
     ]
    },
    {
     "name": "stderr",
     "output_type": "stream",
     "text": [
      "100%|████████████████████████████████████████████████████████████████████████████████| 244/244 [02:39<00:00,  1.53it/s]\n"
     ]
    },
    {
     "name": "stdout",
     "output_type": "stream",
     "text": [
      "Training Loss: 0.039053219378177746\n",
      "Start doing validation\n"
     ]
    },
    {
     "name": "stderr",
     "output_type": "stream",
     "text": [
      "100%|██████████████████████████████████████████████████████████████████████████████████| 35/35 [00:09<00:00,  3.63it/s]\n"
     ]
    },
    {
     "name": "stdout",
     "output_type": "stream",
     "text": [
      "Validation Loss: 0.04253205098211765\n",
      "saving checkpoints\n",
      "Epoch: 4\n"
     ]
    },
    {
     "name": "stderr",
     "output_type": "stream",
     "text": [
      "100%|████████████████████████████████████████████████████████████████████████████████| 244/244 [02:39<00:00,  1.53it/s]\n"
     ]
    },
    {
     "name": "stdout",
     "output_type": "stream",
     "text": [
      "Training Loss: 0.03176205360223768\n",
      "Start doing validation\n"
     ]
    },
    {
     "name": "stderr",
     "output_type": "stream",
     "text": [
      "100%|██████████████████████████████████████████████████████████████████████████████████| 35/35 [00:09<00:00,  3.58it/s]\n"
     ]
    },
    {
     "name": "stdout",
     "output_type": "stream",
     "text": [
      "Validation Loss: 0.041207688142146384\n",
      "saving checkpoints\n",
      "Epoch: 5\n"
     ]
    },
    {
     "name": "stderr",
     "output_type": "stream",
     "text": [
      "100%|████████████████████████████████████████████████████████████████████████████████| 244/244 [02:39<00:00,  1.53it/s]\n"
     ]
    },
    {
     "name": "stdout",
     "output_type": "stream",
     "text": [
      "Training Loss: 0.027208234893432895\n",
      "Start doing validation\n"
     ]
    },
    {
     "name": "stderr",
     "output_type": "stream",
     "text": [
      "100%|██████████████████████████████████████████████████████████████████████████████████| 35/35 [00:09<00:00,  3.61it/s]\n"
     ]
    },
    {
     "name": "stdout",
     "output_type": "stream",
     "text": [
      "Validation Loss: 0.03908980510064534\n",
      "saving checkpoints\n",
      "Epoch: 6\n"
     ]
    },
    {
     "name": "stderr",
     "output_type": "stream",
     "text": [
      "100%|████████████████████████████████████████████████████████████████████████████████| 244/244 [02:39<00:00,  1.53it/s]\n"
     ]
    },
    {
     "name": "stdout",
     "output_type": "stream",
     "text": [
      "Training Loss: 0.024306572538602057\n",
      "Start doing validation\n"
     ]
    },
    {
     "name": "stderr",
     "output_type": "stream",
     "text": [
      "100%|██████████████████████████████████████████████████████████████████████████████████| 35/35 [00:09<00:00,  3.66it/s]\n"
     ]
    },
    {
     "name": "stdout",
     "output_type": "stream",
     "text": [
      "Validation Loss: 0.040562859576727665\n",
      "Epoch: 7\n"
     ]
    },
    {
     "name": "stderr",
     "output_type": "stream",
     "text": [
      "100%|████████████████████████████████████████████████████████████████████████████████| 244/244 [02:39<00:00,  1.53it/s]\n"
     ]
    },
    {
     "name": "stdout",
     "output_type": "stream",
     "text": [
      "Training Loss: 0.022338041856304787\n",
      "Start doing validation\n"
     ]
    },
    {
     "name": "stderr",
     "output_type": "stream",
     "text": [
      "100%|██████████████████████████████████████████████████████████████████████████████████| 35/35 [00:09<00:00,  3.63it/s]\n"
     ]
    },
    {
     "name": "stdout",
     "output_type": "stream",
     "text": [
      "Validation Loss: 0.03837348073720932\n",
      "saving checkpoints\n",
      "Epoch: 8\n"
     ]
    },
    {
     "name": "stderr",
     "output_type": "stream",
     "text": [
      "100%|████████████████████████████████████████████████████████████████████████████████| 244/244 [02:39<00:00,  1.53it/s]\n"
     ]
    },
    {
     "name": "stdout",
     "output_type": "stream",
     "text": [
      "Training Loss: 0.02082392774507037\n",
      "Start doing validation\n"
     ]
    },
    {
     "name": "stderr",
     "output_type": "stream",
     "text": [
      "100%|██████████████████████████████████████████████████████████████████████████████████| 35/35 [00:09<00:00,  3.67it/s]\n"
     ]
    },
    {
     "name": "stdout",
     "output_type": "stream",
     "text": [
      "Validation Loss: 0.038885175862482614\n",
      "Epoch: 9\n"
     ]
    },
    {
     "name": "stderr",
     "output_type": "stream",
     "text": [
      "100%|████████████████████████████████████████████████████████████████████████████████| 244/244 [02:38<00:00,  1.54it/s]\n"
     ]
    },
    {
     "name": "stdout",
     "output_type": "stream",
     "text": [
      "Training Loss: 0.019483651927687595\n",
      "Start doing validation\n"
     ]
    },
    {
     "name": "stderr",
     "output_type": "stream",
     "text": [
      "100%|██████████████████████████████████████████████████████████████████████████████████| 35/35 [00:09<00:00,  3.60it/s]\n"
     ]
    },
    {
     "name": "stdout",
     "output_type": "stream",
     "text": [
      "Validation Loss: 0.04001606205212219\n"
     ]
    },
    {
     "data": {
      "image/png": "[encoded data removed]",
      "text/plain": [
       "<Figure size 1800x800 with 2 Axes>"
      ]
     },
     "metadata": {},
     "output_type": "display_data"
    }
   ],
   "source": [
    "def main(config):\n",
    "    print(f'Initializing Device: {device}')\n",
    "\n",
    "    seed = config.seed + utils.get_rank()\n",
    "    torch.manual_seed(seed)\n",
    "    np.random.seed(seed)\n",
    "\n",
    "    model, criterion = build_model(config)\n",
    "    model.load_state_dict(torch.load('./saved_checkpoints/pretrained_model.pt'))\n",
    "    model.to(device)\n",
    "    n_parameters = sum(p.numel()\n",
    "                       for p in model.parameters() if p.requires_grad)\n",
    "    print(f\"Number of trainable params: {n_parameters}\")\n",
    "\n",
    "    param_dicts = [\n",
    "        {\"params\": [p for n, p in model.named_parameters(\n",
    "        ) if \"backbone\" not in n and p.requires_grad]},\n",
    "        {\n",
    "            \"params\": [p for n, p in model.named_parameters() if \"backbone\" in n and p.requires_grad],\n",
    "            \"lr\": config.lr_backbone,\n",
    "        },\n",
    "    ]\n",
    "    optimizer = torch.optim.AdamW(\n",
    "        param_dicts, lr=config.lr, weight_decay=config.weight_decay)\n",
    "    lr_scheduler = torch.optim.lr_scheduler.StepLR(optimizer, config.lr_drop)\n",
    "\n",
    "    dataset_train = build_dataset(config, mode='training')\n",
    "    dataset_val = build_dataset(config, mode='validation')\n",
    "    print(f\"Train: {len(dataset_train)}\")\n",
    "    print(f\"Valid: {len(dataset_val)}\")\n",
    "\n",
    "    sampler_train = torch.utils.data.RandomSampler(dataset_train)\n",
    "    sampler_val = torch.utils.data.SequentialSampler(dataset_val)\n",
    "\n",
    "    batch_sampler_train = torch.utils.data.BatchSampler(\n",
    "        sampler_train, config.batch_size, drop_last=True\n",
    "    )\n",
    "\n",
    "    data_loader_train = DataLoader(\n",
    "        dataset_train, batch_sampler=batch_sampler_train)\n",
    "    data_loader_val = DataLoader(dataset_val, config.batch_size,\n",
    "                                 sampler=sampler_val, drop_last=False)    \n",
    "    \n",
    "    if os.path.exists(config.checkpoint):\n",
    "        print(\"Loading Checkpoint...\")\n",
    "        checkpoint = torch.load(config.checkpoint, map_location='cpu')\n",
    "        model.load_state_dict(checkpoint['model'])\n",
    "        optimizer.load_state_dict(checkpoint['optimizer'])\n",
    "        lr_scheduler.load_state_dict(checkpoint['lr_scheduler'])\n",
    "        config.start_epoch = checkpoint['epoch'] + 1\n",
    "\n",
    "    train_loss_set = []\n",
    "    valid_loss_set = []\n",
    "    print(\"Start Training {} epochs\".format(config.epochs))\n",
    "    for epoch in range(config.start_epoch, config.epochs):\n",
    "        print(f\"Epoch: {epoch}\")\n",
    "        model.train()\n",
    "        epoch_loss = train_one_epoch(\n",
    "            model, criterion, data_loader_train, optimizer, device, epoch, config.clip_max_norm)\n",
    "        train_loss_set.append(epoch_loss)\n",
    "        lr_scheduler.step()\n",
    "        print(f\"Training Loss: {epoch_loss}\")\n",
    "        \n",
    "        print('Start doing validation')\n",
    "        model.eval()\n",
    "        validation_loss = evaluate(model, criterion, data_loader_val, device)\n",
    "        print(f\"Validation Loss: {validation_loss}\")\n",
    "        #save the checkpoint if the current validation loss is better than all previous epochs   \n",
    "        if len(valid_loss_set) > 0 and validation_loss < min(valid_loss_set):\n",
    "            torch.save(model.state_dict(), './saved_checkpoints/best_CPTR.pt')\n",
    "            print('saving checkpoints')\n",
    "        #stop training if the validation loss increases for two consecutive epochs     \n",
    "        if len(valid_loss_set) > 2 and validation_loss > valid_loss_set[-1] and valid_loss_set[-1] > valid_loss_set[-2]:\n",
    "            valid_loss_set.append(validation_loss)  \n",
    "            break           \n",
    "        else:\n",
    "            valid_loss_set.append(validation_loss)\n",
    "                \n",
    "    return train_loss_set, valid_loss_set, epoch\n",
    "\n",
    "\n",
    "config = Config()\n",
    "train_loss_set, valid_loss_set, epoch = main(config)\n",
    "#plot results\n",
    "fig, (ax1, ax2) = plt.subplots(1, 2, figsize=(18,8))\n",
    "epoch_values = list(range(0, epoch+1, 1))\n",
    "\n",
    "ax1.plot(epoch_values, train_loss_set)\n",
    "ax2.plot(epoch_values, valid_loss_set)\n",
    "\n",
    "ax1.set_xlabel('Epochs')\n",
    "ax1.set_ylabel('Average Train Loss')    \n",
    "ax1.set_title('Average Train Loss vs. Epochs')\n",
    "\n",
    "ax2.set_xlabel('Epochs')\n",
    "ax2.set_ylabel('Average Validation Loss')    \n",
    "ax2.set_title('Average Validation Loss vs. Epochs')\n",
    "plt.show()  "
   ]
  },
  {
   "cell_type": "code",
   "execution_count": null,
   "id": "aa731faf",
   "metadata": {},
   "outputs": [],
   "source": []
  },
  {
   "cell_type": "code",
   "execution_count": null,
   "id": "74cb1c7f",
   "metadata": {},
   "outputs": [],
   "source": []
  },
  {
   "cell_type": "code",
   "execution_count": null,
   "id": "b30e6f2a",
   "metadata": {},
   "outputs": [],
   "source": []
  }
 ],
 "metadata": {
  "kernelspec": {
   "display_name": "Python 3 (ipykernel)",
   "language": "python",
   "name": "python3"
  },
  "language_info": {
   "codemirror_mode": {
    "name": "ipython",
    "version": 3
   },
   "file_extension": ".py",
   "mimetype": "text/x-python",
   "name": "python",
   "nbconvert_exporter": "python",
   "pygments_lexer": "ipython3",
   "version": "3.10.4"
  }
 },
 "nbformat": 4,
 "nbformat_minor": 5
}
